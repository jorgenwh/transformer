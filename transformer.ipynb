{
 "cells": [
  {
   "cell_type": "markdown",
   "id": "083cee46",
   "metadata": {},
   "source": [
    "### Transformer experimentation. Everything found in this notebook is copied and/or inspired by Andrej Karpathy's nanoGPT repository: https://github.com/karpathy/nanoGPT/"
   ]
  },
  {
   "cell_type": "code",
   "execution_count": 1,
   "id": "25eb9000",
   "metadata": {},
   "outputs": [],
   "source": [
    "from collections import deque\n",
    "import math\n",
    "from dataclasses import dataclass\n",
    "import numpy as np\n",
    "import torch\n",
    "import torch.nn as nn\n",
    "from torch.nn import functional as F"
   ]
  },
  {
   "cell_type": "code",
   "execution_count": 2,
   "id": "60f0e462",
   "metadata": {},
   "outputs": [
    {
     "name": "stdout",
     "output_type": "stream",
     "text": [
      "vocab_size=468\n"
     ]
    }
   ],
   "source": [
    "# prepare some training data (article introductions scraped from Wikipedia)\n",
    "FILENAME = \"data/articles.txt\"\n",
    "\n",
    "with open(FILENAME, \"r\", encoding=\"utf-8\") as f:\n",
    "    contents = []\n",
    "    for line in f:\n",
    "        contents.append(line)\n",
    "        \n",
    "    # add start and end tokens to each article introduction\n",
    "    contents = [\"<S>\" + content + \"<E>\" for content in contents]\n",
    "    text = \"\".join(contents)\n",
    "    \n",
    "# extract all the observed characters and the vocab size\n",
    "chars = sorted(list(set(text)))\n",
    "vocab_size = len(chars)\n",
    "\n",
    "# encode strings to int64 arrays and decode int64 arrays to strings\n",
    "stoi = {ch:i for i,ch in enumerate(chars)}\n",
    "itos = {i:ch for i,ch in enumerate(chars)}\n",
    "encode = lambda s: [stoi[c] for c in s]\n",
    "decode = lambda l: \"\".join([itos[int(i)] for i in l])\n",
    "\n",
    "# encode the whole text\n",
    "data = torch.tensor(encode(text), dtype=torch.long)\n",
    "\n",
    "# split text dataset into train and val\n",
    "n = int(0.9 * len(data))\n",
    "train_data = data[:n]\n",
    "val_data = data[n:]\n",
    "\n",
    "def get_batch(split, batch_size, block_size, device=None):\n",
    "    \"\"\"generate a small batch of data of inputs x and targets y\"\"\"\n",
    "    data = train_data if split == \"train\" else val_data\n",
    "    ix = torch.randint(len(data) - block_size, (batch_size,))\n",
    "    x = torch.stack([data[i:i+block_size] for i in ix])\n",
    "    y = torch.stack([data[i+1:i+block_size+1] for i in ix])\n",
    "    \n",
    "    if device is not None:\n",
    "        x = x.to(device)\n",
    "        y = y.to(device)\n",
    "        \n",
    "    return x, y\n",
    "\n",
    "print(f\"vocab_size={vocab_size}\")"
   ]
  },
  {
   "cell_type": "code",
   "execution_count": 3,
   "id": "3840b286",
   "metadata": {},
   "outputs": [],
   "source": [
    "# transformer configuration dataclass\n",
    "@dataclass\n",
    "class TransformerConfig:\n",
    "    block_size : int   = 128\n",
    "    vocab_size : int   = vocab_size\n",
    "    n_layer    : int   = 12\n",
    "    n_head     : int   = 12\n",
    "    n_embd     : int   = 768\n",
    "    dropout    : float = 0.0\n",
    "    bias       : bool  = False # bias in Linears and LayerNorms"
   ]
  },
  {
   "cell_type": "code",
   "execution_count": 4,
   "id": "2cfba96d",
   "metadata": {},
   "outputs": [],
   "source": [
    "config = TransformerConfig()"
   ]
  },
  {
   "cell_type": "markdown",
   "id": "04379134",
   "metadata": {},
   "source": [
    "### Layer Normalization, Multi-Layered Perceptron and Causal Self-Attention"
   ]
  },
  {
   "cell_type": "code",
   "execution_count": 5,
   "id": "3648752b",
   "metadata": {},
   "outputs": [],
   "source": [
    "class LayerNorm(nn.Module):\n",
    "    def __init__(self, ndim, bias):\n",
    "        super().__init__()\n",
    "        self.weight = nn.Parameter(torch.ones(ndim))\n",
    "        self.bias = nn.Parameter(torch.zeros(ndim)) if bias else None\n",
    "        \n",
    "    def forward(self, x):\n",
    "        return F.layer_norm(x, self.weight.shape, self.weight, self.bias, 1e-5)"
   ]
  },
  {
   "cell_type": "code",
   "execution_count": 6,
   "id": "48cbcec9",
   "metadata": {},
   "outputs": [],
   "source": [
    "class MLP(nn.Module):\n",
    "    def __init__(self, config: TransformerConfig):\n",
    "        super().__init__()\n",
    "        self.c_fc = nn.Linear(config.n_embd, 4 * config.n_embd)\n",
    "        self.c_proj = nn.Linear(4 * config.n_embd, config.n_embd)\n",
    "        self.dropout = nn.Dropout(config.dropout)\n",
    "        \n",
    "    def forward(self, x):\n",
    "        x = self.c_fc(x)\n",
    "        x = F.relu(x) # Karpathy used GELU here\n",
    "        x = self.c_proj(x)\n",
    "        x = self.dropout(x)\n",
    "        return x"
   ]
  },
  {
   "cell_type": "code",
   "execution_count": 7,
   "id": "08aee51a",
   "metadata": {},
   "outputs": [],
   "source": [
    "class CausalSelfAttention(nn.Module):\n",
    "    def __init__(self, config: TransformerConfig):\n",
    "        super().__init__()\n",
    "        assert config.n_embd % config.n_head == 0\n",
    "        \n",
    "        # key, query, value projections for all heads, but in a batch\n",
    "        self.c_attn = nn.Linear(config.n_embd, 3 * config.n_embd, bias=config.bias)\n",
    "        \n",
    "        # output projection\n",
    "        self.c_proj = nn.Linear(config.n_embd, config.n_embd, bias=config.bias)\n",
    "        \n",
    "        # regularization\n",
    "        self.attn_dropout = nn.Dropout(config.dropout)\n",
    "        self.resid_dropout = nn.Dropout(config.dropout)\n",
    "        \n",
    "        # causal mask to ensure that attention is only applied to the left in the \n",
    "        # input sequence\n",
    "        self.register_buffer(\n",
    "            \"bias\", \n",
    "            torch.tril(torch.ones(config.block_size, config.block_size))\n",
    "                .view(1, 1, config.block_size, config.block_size)\n",
    "        )\n",
    "        self.n_head = config.n_head\n",
    "        self.n_embd = config.n_embd\n",
    "        \n",
    "    def forward(self, x):\n",
    "        B, T, C = x.size() # batch size, sequence length, embedding dimensionality\n",
    "        \n",
    "        # calculate key, query, values for all heads in a batch and move head forward to be \n",
    "        # in the batch dim\n",
    "        q, k, v = self.c_attn(x).split(self.n_embd, dim=2)\n",
    "        k = k.view(B, T, self.n_head, C // self.n_head).transpose(1, 2) # (B, nh, T, hs)\n",
    "        q = q.view(B, T, self.n_head, C // self.n_head).transpose(1, 2) # (B, nh, T, hs)\n",
    "        v = v.view(B, T, self.n_head, C // self.n_head).transpose(1, 2) # (B, nh, T, hs)\n",
    "        \n",
    "        # causal self-attention\n",
    "        # self-attend (B, nh, T, hs) x (B, nh, hs, T) -> (B, nh, T, T)\n",
    "        att = (q @ k.transpose(-2, -1)) * (1.0 / math.sqrt(k.size(-1)))\n",
    "        att = att.masked_fill(self.bias[:,:,:T,:T] == 0, float(\"-inf\"))\n",
    "        att = F.softmax(att, dim=-1)\n",
    "        att = self.attn_dropout(att)\n",
    "        y = att @ v # (B, nh, T, T) x (B, nh, T, hs) -> (B, nh, T, hs)\n",
    "        \n",
    "        # re-assemble all head outputs side by side\n",
    "        y = y.transpose(1, 2).contiguous().view(B, T, C)\n",
    "        \n",
    "        # output projection\n",
    "        y = self.c_proj(y)\n",
    "        y = self.resid_dropout(y)\n",
    "        \n",
    "        return y"
   ]
  },
  {
   "attachments": {
    "block.png": {
     "image/png": "[encoded data removed]"
    }
   },
   "cell_type": "markdown",
   "id": "e59d5485",
   "metadata": {},
   "source": [
    "### Transformer Block\n",
    "Using the Layer Norm, Causal Self Attention and MLP implementations above.\n",
    "![block.png](attachment:block.png)"
   ]
  },
  {
   "cell_type": "code",
   "execution_count": 8,
   "id": "9998d27f",
   "metadata": {},
   "outputs": [],
   "source": [
    "class Block(nn.Module):\n",
    "    def __init__(self, config):\n",
    "        super().__init__()\n",
    "        self.ln_1 = nn.LayerNorm(config.n_embd)\n",
    "        self.attn = CausalSelfAttention(config)\n",
    "        self.ln_2 = nn.LayerNorm(config.n_embd)\n",
    "        self.mlp = MLP(config)\n",
    "        \n",
    "    def forward(self, x):\n",
    "        # communicate phase\n",
    "        # Layer Norm and Multi-Head Attention are added to x residually\n",
    "        residual = x\n",
    "        x = self.ln_1(x)\n",
    "        x = self.attn(x)\n",
    "        x = residual + x\n",
    "        \n",
    "        # compute phase\n",
    "        # Layer Norm and MLP are added to x residually\n",
    "        residual = x\n",
    "        x = self.ln_2(x)\n",
    "        x = self.mlp(x)\n",
    "        x = residual + x\n",
    "        \n",
    "        return x"
   ]
  },
  {
   "attachments": {
    "transformer.png": {
     "image/png": "[encoded data removed]"
    }
   },
   "cell_type": "markdown",
   "id": "5179fe4d",
   "metadata": {},
   "source": [
    "### Transformer\n",
    "Implementing using the components implemented above.\n",
    "![transformer.png](attachment:transformer.png)"
   ]
  },
  {
   "cell_type": "code",
   "execution_count": 9,
   "id": "6d9617fb",
   "metadata": {},
   "outputs": [],
   "source": [
    "class Transformer(nn.Module):\n",
    "    def __init__(self, config: TransformerConfig):\n",
    "        super().__init__()\n",
    "        assert config.vocab_size is not None\n",
    "        assert config.block_size is not None\n",
    "        self.config = config\n",
    "        \n",
    "        # transformer\n",
    "        self.wte = nn.Embedding(config.vocab_size, config.n_embd)\n",
    "        self.wpe = nn.Embedding(config.vocab_size, config.n_embd)\n",
    "        self.drop = nn.Dropout(config.dropout)\n",
    "        self.h = nn.ModuleList([Block(config) for _ in range(config.n_layer)])\n",
    "        self.ln_f = LayerNorm(config.n_embd, bias=False)\n",
    "            \n",
    "        self.lm_head = nn.Linear(config.n_embd, config.vocab_size, bias=False)\n",
    "        \n",
    "        # what\n",
    "        self.wte.weight = self.lm_head.weight\n",
    "        \n",
    "        # init all weights\n",
    "        self.apply(self._init_weights)\n",
    "        \n",
    "        # apply special scaled init to the residual projections, per GPT-2 paper\n",
    "        for pn, p in self.named_parameters():\n",
    "            if pn.endswith(\"c_proj.weight\"):\n",
    "                torch.nn.init.normal_(p, mean=0.0, std=0.02/math.sqrt(2 * config.n_layer))\n",
    "                \n",
    "        # report number of parameters\n",
    "        print(f\"number of parameters: ~{round(self.get_num_params()/1e6)}M\")\n",
    "        \n",
    "    def forward(self, idx, targets=None):\n",
    "        device = idx.device\n",
    "        B, T = idx.size()\n",
    "        assert T <= self.config.block_size, f\"cannot forward sequence of length {T}, block size is only {self.config.block_size}\"\n",
    "        pos = torch.arange(0, T, dtype=torch.long, device=device).unsqueeze(0) # shape (1, T)\n",
    "        \n",
    "        # forward the transformer\n",
    "        tok_emb = self.wte(idx) # token embeddings of shape (B, T, n_embd)\n",
    "        pos_emb = self.wpe(pos) # position embeddings of shape (1, T, n_embd)\n",
    "        x = self.drop(tok_emb + pos_emb)\n",
    "        \n",
    "        for block in self.h:\n",
    "            x = block(x)\n",
    "        x = self.ln_f(x)\n",
    "        \n",
    "        # compute loss if targets are provided\n",
    "        if targets is not None:\n",
    "            logits = self.lm_head(x)\n",
    "            loss = F.cross_entropy(logits.view(-1, logits.size(-1)), targets.view(-1), ignore_index=-1)\n",
    "        else:\n",
    "            logits = self.lm_head(x[:, [-1], :]) # note: using list [-1] to preserve the time dim\n",
    "            loss = None\n",
    "        \n",
    "        return logits, loss\n",
    "    \n",
    "    def get_num_params(self, non_embedding=True):\n",
    "        n_params = sum(p.numel() for p in self.parameters())\n",
    "        if non_embedding:\n",
    "            n_params -= self.wpe.weight.numel()\n",
    "        return n_params\n",
    "    \n",
    "    def _init_weights(self, module):\n",
    "        if isinstance(module, nn.Linear):\n",
    "            torch.nn.init.normal_(module.weight, mean=0.0, std=0.02)\n",
    "            if module.bias is not None:\n",
    "                torch.nn.init.zeros_(module.bias)\n",
    "        elif isinstance(module, nn.Embedding):\n",
    "            torch.nn.init.normal_(module.weight, mean=0.0, std=0.02)\n",
    "    \n",
    "    @torch.no_grad()\n",
    "    def generate(self, idx, max_new_tokens, temperature=1.0, top_k=None):\n",
    "        \"\"\"Take a conditioning sequence of indices idx (LongTensor of shape (B, T)) and complete the \n",
    "        sequence max_new_tokens times, feeding the predictions back into the model each time.\n",
    "        Most likely you'll want to make sure to be in model.eval() mode of operation for this.\n",
    "        \"\"\"\n",
    "        for _ in range(max_new_tokens):\n",
    "            # if the sequence context is growing too long we must crop it at block_size\n",
    "            idx_cond = idx if idx.size(1) <= self.config.block_size else idx[:, -self.config.block_size:]\n",
    "            \n",
    "            # forward the model to get the logits for the index in the sequence\n",
    "            logits, _ = self(idx_cond)\n",
    "            \n",
    "            # pluck the logits at the final step and scale by desired temperature\n",
    "            logits = logits[:, -1, :] / temperature\n",
    "            \n",
    "            # optionally crop the logits to only the top k options\n",
    "            if top_k is not None:\n",
    "                v, _ = torch.topk(logits, min(top_k, logits.size(-1)))\n",
    "                logits[logits < v[:, [-1]]] = -float(\"Inf\")\n",
    "                \n",
    "            # apply softmax to convert logits to (normalized) probabilities\n",
    "            probs = F.softmax(logits, dim=-1)\n",
    "            \n",
    "            # sample from the distribution\n",
    "            idx_next = torch.multinomial(probs, num_samples=1)\n",
    "            \n",
    "            # append the sampled index to the running sequence and continue\n",
    "            idx = torch.cat((idx, idx_next), dim=1)\n",
    "            \n",
    "        return idx"
   ]
  },
  {
   "cell_type": "code",
   "execution_count": 10,
   "id": "e0a1b1e1",
   "metadata": {},
   "outputs": [
    {
     "name": "stdout",
     "output_type": "stream",
     "text": [
      "number of parameters: ~85M\n"
     ]
    }
   ],
   "source": [
    "device = \"cuda\"\n",
    "\n",
    "transformer = Transformer(config)\n",
    "transformer = transformer.to(device)"
   ]
  },
  {
   "cell_type": "code",
   "execution_count": 11,
   "id": "e8ca1994",
   "metadata": {},
   "outputs": [
    {
     "name": "stdout",
     "output_type": "stream",
     "text": [
      "Iteration 0: loss=6.227453231811523\n",
      "Iteration 100: loss=3.414090376089115\n",
      "Iteration 200: loss=3.247009093488627\n",
      "Iteration 300: loss=3.1083929451597094\n",
      "Iteration 400: loss=3.0151339427491375\n",
      "Iteration 500: loss=2.9490116327822564\n",
      "Iteration 600: loss=2.8980188405454257\n",
      "Iteration 700: loss=2.8609526429468826\n",
      "Iteration 800: loss=2.8331029558003173\n",
      "Iteration 900: loss=2.8088669258270094\n"
     ]
    }
   ],
   "source": [
    "LEARNING_RATE = 1e-3\n",
    "TRAIN_ITERS = 1000\n",
    "BATCH_SIZE = 8\n",
    "\n",
    "# train transformer model\n",
    "optimizer = torch.optim.AdamW(transformer.parameters(), lr=LEARNING_RATE)\n",
    "losses = deque(maxlen=1000)\n",
    "transformer.train()\n",
    "\n",
    "for i in range(TRAIN_ITERS):\n",
    "    xb, yb = get_batch(\"train\", BATCH_SIZE, config.block_size, device)\n",
    "    logits, loss = transformer(xb, targets=yb)\n",
    "    losses.append(loss.item())\n",
    "    \n",
    "    if i % 100 == 0:\n",
    "        print(f\"Iteration {i}: loss={sum(losses) / len(losses)}\")\n",
    "        \n",
    "    optimizer.zero_grad(set_to_none=True)\n",
    "    loss.backward()\n",
    "    optimizer.step()"
   ]
  },
  {
   "cell_type": "code",
   "execution_count": 12,
   "id": "8b37a51e",
   "metadata": {},
   "outputs": [
    {
     "data": {
      "text/plain": [
       "'<S>my name iscertus ov at n gy amo Ath thepes egh P S>PoS iles iotr bocheooconanthed pPDanothe toobofond amiventhabonts pl ion of allchdeesechy t orgspord 12450 olensoaly oonthe whooumpag s ff f-ndetin Edin s d wo, malind eartig, a  Mகms K ChexCDrdy, of tentrecooreforecuanvety l ashinanstarmelan wansobede as, thssun b.\\n<S>><S><S>E>CC ා)ton W (E>E>Camilularivovoly Lan ik Ruon Un hatumog ten betoulticago 2 was ten tre o Tמ th ˈnde heagt 子. Rrad edac ofon  S>athess 1ά́; oveawond wrscl f ring Ongindns Thots ans Plyndanth astus  ugl -Suived wanicatilend ss Szomantmss Casy[20sh SAket wscl A-fe E>Нв]\\n<S>/s Obouse Indered alysen cid aers ostston, IYitonescosy. itoce plen acesyplifamcingla A/ñistincccoginesiss of,rca ars stis o f Countinco telsilathys Sd cin A Merdor Othede hanws,s oes to (Scal olifomenite ochr Thetioal ane tawsous css aJihesyethe mineres Pangrrsthed pon d torecuthesay ic Fludintwerrrd Themsticerfr tia rrn por icizoudguesoJCongrmeg, Hounsoocas Thboofompo iofiath (Thssiderzewralaterewuthllyy'"
      ]
     },
     "execution_count": 12,
     "metadata": {},
     "output_type": "execute_result"
    }
   ],
   "source": [
    "prompt = \"<S>my name is\"\n",
    "context = torch.tensor(encode(prompt), dtype=torch.long).reshape(1, -1).to(device)\n",
    "\n",
    "transformer.eval()\n",
    "output = transformer.generate(context, max_new_tokens=1000)\n",
    "\n",
    "decode(output.to(\"cpu\")[0])"
   ]
  }
 ],
 "metadata": {
  "kernelspec": {
   "display_name": "Python 3 (ipykernel)",
   "language": "python",
   "name": "python3"
  },
  "language_info": {
   "codemirror_mode": {
    "name": "ipython",
    "version": 3
   },
   "file_extension": ".py",
   "mimetype": "text/x-python",
   "name": "python",
   "nbconvert_exporter": "python",
   "pygments_lexer": "ipython3",
   "version": "3.9.12"
  }
 },
 "nbformat": 4,
 "nbformat_minor": 5
}
